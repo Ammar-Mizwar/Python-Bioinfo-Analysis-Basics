{
 "cells": [
  {
   "cell_type": "code",
   "execution_count": null,
   "id": "a1db7324-950b-4111-a450-e99b8ebfb95c",
   "metadata": {},
   "outputs": [],
   "source": [
    "#data.csv, containing some made-up data for a number of genes. \n",
    "#Each line contains the following fields for a single gene in this order: species name, sequence, gene name, expression level. \n",
    "#The fields are separated by commas.\n",
    "#Print out the gene names for all genes belonging to Drosophila melanogaster or Drosophila simulans."
   ]
  },
  {
   "cell_type": "code",
   "execution_count": null,
   "id": "fa273561-08c5-4dec-921c-1bd303fb4fb0",
   "metadata": {},
   "outputs": [],
   "source": [
    "import csv\n",
    "\n",
    "with open('filename.csv', newline='') as csvfile:\n",
    "    reader = csv.reader(csvfile)\n",
    "    for row in reader:\n",
    "        print(row)"
   ]
  },
  {
   "cell_type": "code",
   "execution_count": null,
   "id": "fecdb375-52a1-4efb-9621-419402165b4b",
   "metadata": {},
   "outputs": [],
   "source": []
  }
 ],
 "metadata": {
  "kernelspec": {
   "display_name": "Python [conda env:bioinfo_env]",
   "language": "python",
   "name": "conda-env-bioinfo_env-py"
  },
  "language_info": {
   "codemirror_mode": {
    "name": "ipython",
    "version": 3
   },
   "file_extension": ".py",
   "mimetype": "text/x-python",
   "name": "python",
   "nbconvert_exporter": "python",
   "pygments_lexer": "ipython3",
   "version": "3.10.16"
  }
 },
 "nbformat": 4,
 "nbformat_minor": 5
}
