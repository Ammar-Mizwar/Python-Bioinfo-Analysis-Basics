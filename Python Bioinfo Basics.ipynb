{
 "cells": [
  {
   "cell_type": "code",
   "execution_count": null,
   "id": "a1db7324-950b-4111-a450-e99b8ebfb95c",
   "metadata": {},
   "outputs": [],
   "source": [
    "#data.csv, containing some made-up data for a number of genes. \n",
    "#Each line contains the following fields for a single gene in this order: \n",
    "#species name, sequence, gene name, expression level. \n",
    "#The fields are separated by commas."
   ]
  },
  {
   "cell_type": "code",
   "execution_count": 11,
   "id": "fecdb375-52a1-4efb-9621-419402165b4b",
   "metadata": {},
   "outputs": [
    {
     "name": "stdout",
     "output_type": "stream",
     "text": [
      "Current dir: /Users/mizwarrashid/Library/Mobile Documents/com~apple~CloudDocs/2 BSc Microbiology & Molecular Genetics /Electives/SIO3016 Biological Data Analytics/7 Tutorial/EX 5\n"
     ]
    }
   ],
   "source": [
    "import os\n",
    "print(\"Current dir:\", os.getcwd())"
   ]
  },
  {
   "cell_type": "code",
   "execution_count": 17,
   "id": "fa273561-08c5-4dec-921c-1bd303fb4fb0",
   "metadata": {},
   "outputs": [
    {
     "name": "stdout",
     "output_type": "stream",
     "text": [
      "kdy647\n",
      "jdg766\n",
      "kdy533\n"
     ]
    }
   ],
   "source": [
    "#Print out the gene names for all genes belonging to Drosophila melanogaster or Drosophila simulans.\n",
    "\n",
    "import pandas as pd\n",
    "col_names = ['species', 'sequence', 'gene_name', 'expression']\n",
    "df = pd.read_csv('DATA.php', header=None, names=col_names)\n",
    "target_species = ['Drosophila melanogaster', 'Drosophila simulans']\n",
    "filtered = df[df['species'].isin(target_species)]\n",
    "for gene in filtered['gene_name']:\n",
    "    print(gene)"
   ]
  },
  {
   "cell_type": "code",
   "execution_count": 19,
   "id": "bb985c2d-188b-4307-9b6f-9b27fbe5fab3",
   "metadata": {},
   "outputs": [
    {
     "name": "stdout",
     "output_type": "stream",
     "text": [
      "teg436\n"
     ]
    }
   ],
   "source": [
    "#Print out the gene names for all genes whose AT content is less than 0.5 and whose expression level is greater than 200. \n",
    "#Create a function def get_at_content(dna) to calculate AT content and return to main.\n",
    "\n",
    "df['expression'] = pd.to_numeric(df['expression'], errors='coerce')\n",
    "def get_at_content(dna):\n",
    "    dna = dna.upper()\n",
    "    a_count = dna.count('A')\n",
    "    t_count = dna.count('T')\n",
    "    return (a_count + t_count) / len(dna)\n",
    "df['at_content'] = df['sequence'].apply(get_at_content)\n",
    "filtered = df[(df['at_content'] < 0.5) & (df['expression'] > 200)]\n",
    "for gene in filtered['gene_name']:\n",
    "    print(gene)"
   ]
  },
  {
   "cell_type": "code",
   "execution_count": 43,
   "id": "69c495d8-dc76-4e36-9987-8f3bcc956d67",
   "metadata": {},
   "outputs": [
    {
     "name": "stdout",
     "output_type": "stream",
     "text": [
      "0          TCGATCGATCGATCGATCGATCGATCGATCGATCGATCGATC\n",
      "1               ACTGATCGATCGATCGATCGATCGATGCTATCGTCGT\n",
      "2    ATCGATCACGATCTATCGTACGTATGCATATCGATATCGATCGTAGTC\n",
      "3                   ACTATCGATGATCTAGCTACGATCGTAGCTGTA\n",
      "4     ACTAGCTAGTCTCGATGCATGATCAGCTTAGCTGATGATGCTATGCA\n",
      "Name: trimmed_seq, dtype: object\n",
      "\n",
      " New file: \n",
      "\n",
      "TCGATCGATCGATCGATCGATCGATCGATCGATCGATCGATC\n",
      "ACTGATCGATCGATCGATCGATCGATGCTATCGTCGT\n",
      "ATCGATCACGATCTATCGTACGTATGCATATCGATATCGATCGTAGTC\n",
      "ACTATCGATGATCTAGCTACGATCGTAGCTGTA\n",
      "ACTAGCTAGTCTCGATGCATGATCAGCTTAGCTGATGATGCTATGCA\n",
      "\n"
     ]
    }
   ],
   "source": [
    "#The file input.txt contains a number of DNA sequences, one per line. \n",
    "#Each sequence starts with the same 14 base pair fragment. Write a program that will \n",
    "#trim this adapter and write the cleaned sequences to a new file (trimmed.txt) and \n",
    "\n",
    "col_names = ['Seq']\n",
    "df = pd.read_csv('input.txt', header=None, names=col_names)\n",
    "def get_trimmed_seq(dna):\n",
    "    dna = dna.upper()\n",
    "    return dna[14:]\n",
    "df['trimmed_seq'] =  df['Seq'].apply(get_trimmed_seq)\n",
    "print(df['trimmed_seq'])\n",
    "df['trimmed_seq'].to_csv('trimmed.txt', index=False, header=False)\n",
    "with open('trimmed.txt') as f:\n",
    "    print(\"\\n New file: \\n\\n\" + f.read())"
   ]
  },
  {
   "cell_type": "code",
   "execution_count": 51,
   "id": "0fff3348-951a-465f-b696-c174b9af747b",
   "metadata": {},
   "outputs": [
    {
     "name": "stdout",
     "output_type": "stream",
     "text": [
      "0    56\n",
      "1    51\n",
      "2    62\n",
      "3    47\n",
      "4    61\n",
      "Name: length, dtype: int64\n"
     ]
    }
   ],
   "source": [
    "#print the length of each sequence to the screen.\n",
    "\n",
    "df['length'] = df['Seq'].apply(len)\n",
    "print(df['length'])"
   ]
  }
 ],
 "metadata": {
  "kernelspec": {
   "display_name": "Python [conda env:bioinfo_env]",
   "language": "python",
   "name": "conda-env-bioinfo_env-py"
  },
  "language_info": {
   "codemirror_mode": {
    "name": "ipython",
    "version": 3
   },
   "file_extension": ".py",
   "mimetype": "text/x-python",
   "name": "python",
   "nbconvert_exporter": "python",
   "pygments_lexer": "ipython3",
   "version": "3.10.16"
  }
 },
 "nbformat": 4,
 "nbformat_minor": 5
}
